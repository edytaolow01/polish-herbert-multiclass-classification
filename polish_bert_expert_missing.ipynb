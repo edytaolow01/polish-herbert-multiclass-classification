{
 "cells": [
  {
   "cell_type": "code",
   "execution_count": 1,
   "metadata": {},
   "outputs": [],
   "source": [
    "# !pip install torch\n",
    "# !pip install transformers\n",
    "# !pip install pandas\n",
    "# !pip install matplotlib\n",
    "# !pip install protobuf #for polish bert\n",
    "# !pip install sacremoses #for polish bert\n",
    "# !pip install scikit-learn\n",
    "# !pip install wandb\n",
    "# !pip show accelerate\n"
   ]
  },
  {
   "cell_type": "code",
   "execution_count": 2,
   "id": "efa0061f",
   "metadata": {},
   "outputs": [
    {
     "name": "stderr",
     "output_type": "stream",
     "text": [
      "/home/eoplumbum/miniconda3/envs/bert_pl/lib/python3.11/site-packages/tqdm/auto.py:21: TqdmWarning: IProgress not found. Please update jupyter and ipywidgets. See https://ipywidgets.readthedocs.io/en/stable/user_install.html\n",
      "  from .autonotebook import tqdm as notebook_tqdm\n"
     ]
    }
   ],
   "source": [
    "import torch, os\n",
    "import pandas as pd\n",
    "from transformers import pipeline, BertForSequenceClassification, BertTokenizerFast\n",
    "from torch.utils.data import Dataset"
   ]
  },
  {
   "cell_type": "code",
   "execution_count": 3,
   "id": "a8009538",
   "metadata": {},
   "outputs": [
    {
     "data": {
      "text/plain": [
       "'cuda'"
      ]
     },
     "execution_count": 3,
     "metadata": {},
     "output_type": "execute_result"
    }
   ],
   "source": [
    "from torch import cuda\n",
    "device = 'cuda' if cuda.is_available() else 'cpu'\n",
    "device"
   ]
  },
  {
   "cell_type": "code",
   "execution_count": null,
   "id": "73cf34b7",
   "metadata": {},
   "outputs": [
    {
     "data": {
      "text/html": [
       "<div>\n",
       "<style scoped>\n",
       "    .dataframe tbody tr th:only-of-type {\n",
       "        vertical-align: middle;\n",
       "    }\n",
       "\n",
       "    .dataframe tbody tr th {\n",
       "        vertical-align: top;\n",
       "    }\n",
       "\n",
       "    .dataframe thead th {\n",
       "        text-align: right;\n",
       "    }\n",
       "</style>\n",
       "<table border=\"1\" class=\"dataframe\">\n",
       "  <thead>\n",
       "    <tr style=\"text-align: right;\">\n",
       "      <th></th>\n",
       "      <th>category</th>\n",
       "      <th>text</th>\n",
       "    </tr>\n",
       "  </thead>\n",
       "  <tbody>\n",
       "    <tr>\n",
       "      <th>1780</th>\n",
       "      <td>Analiza systemów energetycznych: porównanie ró...</td>\n",
       "      <td>Scenariusze czasowe: ile MW/MWhel OZE realisty...</td>\n",
       "    </tr>\n",
       "    <tr>\n",
       "      <th>9132</th>\n",
       "      <td>Społeczna akceptacja inwestycji i planowanie k...</td>\n",
       "      <td>Aspekty społeczne i akceptacja publiczna: jak ...</td>\n",
       "    </tr>\n",
       "    <tr>\n",
       "      <th>2859</th>\n",
       "      <td>Analiza i rozwój krajowego łańcucha dostaw ene...</td>\n",
       "      <td>Informacje o transferze technologii, warunkach...</td>\n",
       "    </tr>\n",
       "    <tr>\n",
       "      <th>7109</th>\n",
       "      <td>Bezpieczeństwo reaktorów jądrowych - analiza d...</td>\n",
       "      <td>Historyczne dane o poprzednich przestojach rea...</td>\n",
       "    </tr>\n",
       "    <tr>\n",
       "      <th>10112</th>\n",
       "      <td>Tempo produkcji broni jądrowej przez Koreę Pół...</td>\n",
       "      <td>Dokładne, odniesione do źródeł wielkości zapas...</td>\n",
       "    </tr>\n",
       "  </tbody>\n",
       "</table>\n",
       "</div>"
      ],
      "text/plain": [
       "                                                category  \\\n",
       "1780   Analiza systemów energetycznych: porównanie ró...   \n",
       "9132   Społeczna akceptacja inwestycji i planowanie k...   \n",
       "2859   Analiza i rozwój krajowego łańcucha dostaw ene...   \n",
       "7109   Bezpieczeństwo reaktorów jądrowych - analiza d...   \n",
       "10112  Tempo produkcji broni jądrowej przez Koreę Pół...   \n",
       "\n",
       "                                                    text  \n",
       "1780   Scenariusze czasowe: ile MW/MWhel OZE realisty...  \n",
       "9132   Aspekty społeczne i akceptacja publiczna: jak ...  \n",
       "2859   Informacje o transferze technologii, warunkach...  \n",
       "7109   Historyczne dane o poprzednich przestojach rea...  \n",
       "10112  Dokładne, odniesione do źródeł wielkości zapas...  "
      ]
     },
     "execution_count": 4,
     "metadata": {},
     "output_type": "execute_result"
    }
   ],
   "source": [
    "path = \"./suggested_train_expert.csv\"\n",
    "\n",
    "df_org= pd.read_csv(path)\n",
    "df_org = df_org.sample(frac=1.0, random_state=42)\n",
    "\n",
    "df_org.head()"
   ]
  },
  {
   "cell_type": "code",
   "execution_count": 5,
   "id": "fd53ab6e",
   "metadata": {},
   "outputs": [
    {
     "data": {
      "text/plain": [
       "['Analiza systemów energetycznych: porównanie różnych scenariuszy wykorzystania źródeł energii odnawialnej, magazynów energii i gazu ziemnego',\n",
       " 'Społeczna akceptacja inwestycji i planowanie komunikacji społecznej',\n",
       " 'Analiza i rozwój krajowego łańcucha dostaw energii jądrowej',\n",
       " 'Bezpieczeństwo reaktorów jądrowych - analiza danych historycznych i porównawcza',\n",
       " 'Tempo produkcji broni jądrowej przez Koreę Północną',\n",
       " 'Harmonogram procedur regulacyjnych i budowlanych projektu jądrowego',\n",
       " 'Bezpieczeństwo elektrowni jądrowej Akkuyu - raporty inspekcyjne MAEA i niezależne audyty ekspertów',\n",
       " 'Ocena ryzyka awarii jądrowej poprzez modelowanie scenariuszy awaryjnych i rozprzestrzeniania emisji radionuklidów',\n",
       " 'Zasilanie awaryjne i systemy chłodzenia - raport szczegółowy',\n",
       " 'Struktura finansowania projektów inwestycyjnych',\n",
       " 'Planowanie i ćwiczenia transgranicznej ochrony ludności przed zagrożeniami radiacyjnymi',\n",
       " 'Analiza wrażliwości projektów energetycznych na opóźnienia i przekroczenia kosztów',\n",
       " 'Analiza prawno-międzynarodowa i strategiczna dotycząca użycia broni jądrowej przez Rosję oraz potencjalnych reakcji międzynarodowych',\n",
       " 'Analiza porównawcza kosztów energii jądrowej i odnawialnej',\n",
       " 'Dokumentacja dotycząca personelu operacyjnego i procedur awaryjnych',\n",
       " 'Pomiary radioaktywne i ich analiza',\n",
       " 'Umowy EPC i transfer technologii - warunki i zapisy kontraktowe',\n",
       " 'Gospodarka odpadami promieniotwórczymi - zarządzanie, składowanie i długoterminowe rozwiązania',\n",
       " 'Analiza porównawcza projektów jądrowych - opóźnienia, koszty i ryzyko',\n",
       " 'Dowody naukowe i dane dotyczące wpływu energetyki jądrowej na środowisko i zdrowie ludzkie']"
      ]
     },
     "execution_count": 5,
     "metadata": {},
     "output_type": "execute_result"
    }
   ],
   "source": [
    "labels = df_org['category'].unique().tolist()\n",
    "labels = [s.strip() for s in labels ]\n",
    "labels"
   ]
  },
  {
   "cell_type": "code",
   "execution_count": 6,
   "id": "98537153",
   "metadata": {},
   "outputs": [
    {
     "name": "stdout",
     "output_type": "stream",
     "text": [
      "Analiza systemów energetycznych: porównanie różnych scenariuszy wykorzystania źródeł energii odnawialnej, magazynów energii i gazu ziemnego\n",
      "Społeczna akceptacja inwestycji i planowanie komunikacji społecznej\n",
      "Analiza i rozwój krajowego łańcucha dostaw energii jądrowej\n",
      "Bezpieczeństwo reaktorów jądrowych - analiza danych historycznych i porównawcza\n",
      "Tempo produkcji broni jądrowej przez Koreę Północną\n",
      "Harmonogram procedur regulacyjnych i budowlanych projektu jądrowego\n",
      "Bezpieczeństwo elektrowni jądrowej Akkuyu - raporty inspekcyjne MAEA i niezależne audyty ekspertów\n",
      "Ocena ryzyka awarii jądrowej poprzez modelowanie scenariuszy awaryjnych i rozprzestrzeniania emisji radionuklidów\n",
      "Zasilanie awaryjne i systemy chłodzenia - raport szczegółowy\n",
      "Struktura finansowania projektów inwestycyjnych\n",
      "Planowanie i ćwiczenia transgranicznej ochrony ludności przed zagrożeniami radiacyjnymi\n",
      "Analiza wrażliwości projektów energetycznych na opóźnienia i przekroczenia kosztów\n",
      "Analiza prawno-międzynarodowa i strategiczna dotycząca użycia broni jądrowej przez Rosję oraz potencjalnych reakcji międzynarodowych\n",
      "Analiza porównawcza kosztów energii jądrowej i odnawialnej\n",
      "Dokumentacja dotycząca personelu operacyjnego i procedur awaryjnych\n",
      "Pomiary radioaktywne i ich analiza\n",
      "Umowy EPC i transfer technologii - warunki i zapisy kontraktowe\n",
      "Gospodarka odpadami promieniotwórczymi - zarządzanie, składowanie i długoterminowe rozwiązania\n",
      "Analiza porównawcza projektów jądrowych - opóźnienia, koszty i ryzyko\n",
      "Dowody naukowe i dane dotyczące wpływu energetyki jądrowej na środowisko i zdrowie ludzkie\n"
     ]
    }
   ],
   "source": [
    "for key, value in enumerate(labels):\n",
    "    print(value)"
   ]
  },
  {
   "cell_type": "code",
   "execution_count": 7,
   "id": "690004ac",
   "metadata": {},
   "outputs": [],
   "source": [
    "NUM_LABELS= len(labels)\n",
    "\n",
    "id2label={id:label for id,label in enumerate(labels)}\n",
    "\n",
    "label2id={label:id for id,label in enumerate(labels)}"
   ]
  },
  {
   "cell_type": "code",
   "execution_count": 8,
   "id": "2635dbde",
   "metadata": {},
   "outputs": [
    {
     "data": {
      "text/plain": [
       "{'Analiza systemów energetycznych: porównanie różnych scenariuszy wykorzystania źródeł energii odnawialnej, magazynów energii i gazu ziemnego': 0,\n",
       " 'Społeczna akceptacja inwestycji i planowanie komunikacji społecznej': 1,\n",
       " 'Analiza i rozwój krajowego łańcucha dostaw energii jądrowej': 2,\n",
       " 'Bezpieczeństwo reaktorów jądrowych - analiza danych historycznych i porównawcza': 3,\n",
       " 'Tempo produkcji broni jądrowej przez Koreę Północną': 4,\n",
       " 'Harmonogram procedur regulacyjnych i budowlanych projektu jądrowego': 5,\n",
       " 'Bezpieczeństwo elektrowni jądrowej Akkuyu - raporty inspekcyjne MAEA i niezależne audyty ekspertów': 6,\n",
       " 'Ocena ryzyka awarii jądrowej poprzez modelowanie scenariuszy awaryjnych i rozprzestrzeniania emisji radionuklidów': 7,\n",
       " 'Zasilanie awaryjne i systemy chłodzenia - raport szczegółowy': 8,\n",
       " 'Struktura finansowania projektów inwestycyjnych': 9,\n",
       " 'Planowanie i ćwiczenia transgranicznej ochrony ludności przed zagrożeniami radiacyjnymi': 10,\n",
       " 'Analiza wrażliwości projektów energetycznych na opóźnienia i przekroczenia kosztów': 11,\n",
       " 'Analiza prawno-międzynarodowa i strategiczna dotycząca użycia broni jądrowej przez Rosję oraz potencjalnych reakcji międzynarodowych': 12,\n",
       " 'Analiza porównawcza kosztów energii jądrowej i odnawialnej': 13,\n",
       " 'Dokumentacja dotycząca personelu operacyjnego i procedur awaryjnych': 14,\n",
       " 'Pomiary radioaktywne i ich analiza': 15,\n",
       " 'Umowy EPC i transfer technologii - warunki i zapisy kontraktowe': 16,\n",
       " 'Gospodarka odpadami promieniotwórczymi - zarządzanie, składowanie i długoterminowe rozwiązania': 17,\n",
       " 'Analiza porównawcza projektów jądrowych - opóźnienia, koszty i ryzyko': 18,\n",
       " 'Dowody naukowe i dane dotyczące wpływu energetyki jądrowej na środowisko i zdrowie ludzkie': 19}"
      ]
     },
     "execution_count": 8,
     "metadata": {},
     "output_type": "execute_result"
    }
   ],
   "source": [
    "label2id"
   ]
  },
  {
   "cell_type": "code",
   "execution_count": 9,
   "id": "bd05acfe",
   "metadata": {},
   "outputs": [
    {
     "data": {
      "text/plain": [
       "{0: 'Analiza systemów energetycznych: porównanie różnych scenariuszy wykorzystania źródeł energii odnawialnej, magazynów energii i gazu ziemnego',\n",
       " 1: 'Społeczna akceptacja inwestycji i planowanie komunikacji społecznej',\n",
       " 2: 'Analiza i rozwój krajowego łańcucha dostaw energii jądrowej',\n",
       " 3: 'Bezpieczeństwo reaktorów jądrowych - analiza danych historycznych i porównawcza',\n",
       " 4: 'Tempo produkcji broni jądrowej przez Koreę Północną',\n",
       " 5: 'Harmonogram procedur regulacyjnych i budowlanych projektu jądrowego',\n",
       " 6: 'Bezpieczeństwo elektrowni jądrowej Akkuyu - raporty inspekcyjne MAEA i niezależne audyty ekspertów',\n",
       " 7: 'Ocena ryzyka awarii jądrowej poprzez modelowanie scenariuszy awaryjnych i rozprzestrzeniania emisji radionuklidów',\n",
       " 8: 'Zasilanie awaryjne i systemy chłodzenia - raport szczegółowy',\n",
       " 9: 'Struktura finansowania projektów inwestycyjnych',\n",
       " 10: 'Planowanie i ćwiczenia transgranicznej ochrony ludności przed zagrożeniami radiacyjnymi',\n",
       " 11: 'Analiza wrażliwości projektów energetycznych na opóźnienia i przekroczenia kosztów',\n",
       " 12: 'Analiza prawno-międzynarodowa i strategiczna dotycząca użycia broni jądrowej przez Rosję oraz potencjalnych reakcji międzynarodowych',\n",
       " 13: 'Analiza porównawcza kosztów energii jądrowej i odnawialnej',\n",
       " 14: 'Dokumentacja dotycząca personelu operacyjnego i procedur awaryjnych',\n",
       " 15: 'Pomiary radioaktywne i ich analiza',\n",
       " 16: 'Umowy EPC i transfer technologii - warunki i zapisy kontraktowe',\n",
       " 17: 'Gospodarka odpadami promieniotwórczymi - zarządzanie, składowanie i długoterminowe rozwiązania',\n",
       " 18: 'Analiza porównawcza projektów jądrowych - opóźnienia, koszty i ryzyko',\n",
       " 19: 'Dowody naukowe i dane dotyczące wpływu energetyki jądrowej na środowisko i zdrowie ludzkie'}"
      ]
     },
     "execution_count": 9,
     "metadata": {},
     "output_type": "execute_result"
    }
   ],
   "source": [
    "id2label"
   ]
  },
  {
   "cell_type": "code",
   "execution_count": 10,
   "id": "aca66567",
   "metadata": {},
   "outputs": [],
   "source": [
    "df_org[\"labels\"]=df_org.category.map(lambda x: label2id[x.strip()])"
   ]
  },
  {
   "cell_type": "code",
   "execution_count": 11,
   "id": "99ebc920",
   "metadata": {},
   "outputs": [
    {
     "data": {
      "text/html": [
       "<div>\n",
       "<style scoped>\n",
       "    .dataframe tbody tr th:only-of-type {\n",
       "        vertical-align: middle;\n",
       "    }\n",
       "\n",
       "    .dataframe tbody tr th {\n",
       "        vertical-align: top;\n",
       "    }\n",
       "\n",
       "    .dataframe thead th {\n",
       "        text-align: right;\n",
       "    }\n",
       "</style>\n",
       "<table border=\"1\" class=\"dataframe\">\n",
       "  <thead>\n",
       "    <tr style=\"text-align: right;\">\n",
       "      <th></th>\n",
       "      <th>category</th>\n",
       "      <th>text</th>\n",
       "      <th>labels</th>\n",
       "    </tr>\n",
       "  </thead>\n",
       "  <tbody>\n",
       "    <tr>\n",
       "      <th>1780</th>\n",
       "      <td>Analiza systemów energetycznych: porównanie ró...</td>\n",
       "      <td>Scenariusze czasowe: ile MW/MWhel OZE realisty...</td>\n",
       "      <td>0</td>\n",
       "    </tr>\n",
       "    <tr>\n",
       "      <th>9132</th>\n",
       "      <td>Społeczna akceptacja inwestycji i planowanie k...</td>\n",
       "      <td>Aspekty społeczne i akceptacja publiczna: jak ...</td>\n",
       "      <td>1</td>\n",
       "    </tr>\n",
       "    <tr>\n",
       "      <th>2859</th>\n",
       "      <td>Analiza i rozwój krajowego łańcucha dostaw ene...</td>\n",
       "      <td>Informacje o transferze technologii, warunkach...</td>\n",
       "      <td>2</td>\n",
       "    </tr>\n",
       "    <tr>\n",
       "      <th>7109</th>\n",
       "      <td>Bezpieczeństwo reaktorów jądrowych - analiza d...</td>\n",
       "      <td>Historyczne dane o poprzednich przestojach rea...</td>\n",
       "      <td>3</td>\n",
       "    </tr>\n",
       "    <tr>\n",
       "      <th>10112</th>\n",
       "      <td>Tempo produkcji broni jądrowej przez Koreę Pół...</td>\n",
       "      <td>Dokładne, odniesione do źródeł wielkości zapas...</td>\n",
       "      <td>4</td>\n",
       "    </tr>\n",
       "    <tr>\n",
       "      <th>5153</th>\n",
       "      <td>Harmonogram procedur regulacyjnych i budowlany...</td>\n",
       "      <td>Ocena regulacyjnych i prawnych barier w Polsce...</td>\n",
       "      <td>5</td>\n",
       "    </tr>\n",
       "    <tr>\n",
       "      <th>7257</th>\n",
       "      <td>Bezpieczeństwo elektrowni jądrowej Akkuyu - ra...</td>\n",
       "      <td>Raporty inspekcyjne MAEA lub innych niezależny...</td>\n",
       "      <td>6</td>\n",
       "    </tr>\n",
       "    <tr>\n",
       "      <th>1155</th>\n",
       "      <td>Ocena ryzyka awarii jądrowej poprzez modelowan...</td>\n",
       "      <td>Opis procedur środowiskowych i przyczyn liczny...</td>\n",
       "      <td>7</td>\n",
       "    </tr>\n",
       "    <tr>\n",
       "      <th>3131</th>\n",
       "      <td>Zasilanie awaryjne i systemy chłodzenia - rapo...</td>\n",
       "      <td>Oświadczenie operatora systemu przesyłowego o ...</td>\n",
       "      <td>8</td>\n",
       "    </tr>\n",
       "    <tr>\n",
       "      <th>3209</th>\n",
       "      <td>Zasilanie awaryjne i systemy chłodzenia - rapo...</td>\n",
       "      <td>Szczegółowe zapisy testów generatorów awaryjny...</td>\n",
       "      <td>8</td>\n",
       "    </tr>\n",
       "    <tr>\n",
       "      <th>4955</th>\n",
       "      <td>Struktura finansowania projektów inwestycyjnych</td>\n",
       "      <td>Wskazanie, które konkretne modele kontraktowan...</td>\n",
       "      <td>9</td>\n",
       "    </tr>\n",
       "    <tr>\n",
       "      <th>10072</th>\n",
       "      <td>Tempo produkcji broni jądrowej przez Koreę Pół...</td>\n",
       "      <td>Scenariusze zapotrzebowania paliwowego konkret...</td>\n",
       "      <td>4</td>\n",
       "    </tr>\n",
       "    <tr>\n",
       "      <th>5944</th>\n",
       "      <td>Planowanie i ćwiczenia transgranicznej ochrony...</td>\n",
       "      <td>Konkretny schemat dawkowania KI według wieku/m...</td>\n",
       "      <td>10</td>\n",
       "    </tr>\n",
       "    <tr>\n",
       "      <th>8918</th>\n",
       "      <td>Społeczna akceptacja inwestycji i planowanie k...</td>\n",
       "      <td>Opinie i działania organizacji antyatomowych o...</td>\n",
       "      <td>1</td>\n",
       "    </tr>\n",
       "    <tr>\n",
       "      <th>2210</th>\n",
       "      <td>Analiza systemów energetycznych: porównanie ró...</td>\n",
       "      <td>Szacunki kosztów magazynowania energii (€/kWh)...</td>\n",
       "      <td>0</td>\n",
       "    </tr>\n",
       "    <tr>\n",
       "      <th>5809</th>\n",
       "      <td>Planowanie i ćwiczenia transgranicznej ochrony...</td>\n",
       "      <td>Ocena kosztów i czasu typowych dekontaminacji ...</td>\n",
       "      <td>10</td>\n",
       "    </tr>\n",
       "    <tr>\n",
       "      <th>3620</th>\n",
       "      <td>Zasilanie awaryjne i systemy chłodzenia - rapo...</td>\n",
       "      <td>Szczegółowe, zweryfikowane dane techniczne dot...</td>\n",
       "      <td>8</td>\n",
       "    </tr>\n",
       "    <tr>\n",
       "      <th>9702</th>\n",
       "      <td>Analiza wrażliwości projektów energetycznych n...</td>\n",
       "      <td>Konkretne, udokumentowane szacunki kosztów i h...</td>\n",
       "      <td>11</td>\n",
       "    </tr>\n",
       "    <tr>\n",
       "      <th>7822</th>\n",
       "      <td>Analiza prawno-międzynarodowa i strategiczna d...</td>\n",
       "      <td>Rozróżnienie między ryzykami związanymi z bron...</td>\n",
       "      <td>12</td>\n",
       "    </tr>\n",
       "    <tr>\n",
       "      <th>6407</th>\n",
       "      <td>Analiza porównawcza kosztów energii jądrowej i...</td>\n",
       "      <td>Szczegółowa analiza ekonomiczna (LCOE) dla pro...</td>\n",
       "      <td>13</td>\n",
       "    </tr>\n",
       "  </tbody>\n",
       "</table>\n",
       "</div>"
      ],
      "text/plain": [
       "                                                category  \\\n",
       "1780   Analiza systemów energetycznych: porównanie ró...   \n",
       "9132   Społeczna akceptacja inwestycji i planowanie k...   \n",
       "2859   Analiza i rozwój krajowego łańcucha dostaw ene...   \n",
       "7109   Bezpieczeństwo reaktorów jądrowych - analiza d...   \n",
       "10112  Tempo produkcji broni jądrowej przez Koreę Pół...   \n",
       "5153   Harmonogram procedur regulacyjnych i budowlany...   \n",
       "7257   Bezpieczeństwo elektrowni jądrowej Akkuyu - ra...   \n",
       "1155   Ocena ryzyka awarii jądrowej poprzez modelowan...   \n",
       "3131   Zasilanie awaryjne i systemy chłodzenia - rapo...   \n",
       "3209   Zasilanie awaryjne i systemy chłodzenia - rapo...   \n",
       "4955     Struktura finansowania projektów inwestycyjnych   \n",
       "10072  Tempo produkcji broni jądrowej przez Koreę Pół...   \n",
       "5944   Planowanie i ćwiczenia transgranicznej ochrony...   \n",
       "8918   Społeczna akceptacja inwestycji i planowanie k...   \n",
       "2210   Analiza systemów energetycznych: porównanie ró...   \n",
       "5809   Planowanie i ćwiczenia transgranicznej ochrony...   \n",
       "3620   Zasilanie awaryjne i systemy chłodzenia - rapo...   \n",
       "9702   Analiza wrażliwości projektów energetycznych n...   \n",
       "7822   Analiza prawno-międzynarodowa i strategiczna d...   \n",
       "6407   Analiza porównawcza kosztów energii jądrowej i...   \n",
       "\n",
       "                                                    text  labels  \n",
       "1780   Scenariusze czasowe: ile MW/MWhel OZE realisty...       0  \n",
       "9132   Aspekty społeczne i akceptacja publiczna: jak ...       1  \n",
       "2859   Informacje o transferze technologii, warunkach...       2  \n",
       "7109   Historyczne dane o poprzednich przestojach rea...       3  \n",
       "10112  Dokładne, odniesione do źródeł wielkości zapas...       4  \n",
       "5153   Ocena regulacyjnych i prawnych barier w Polsce...       5  \n",
       "7257   Raporty inspekcyjne MAEA lub innych niezależny...       6  \n",
       "1155   Opis procedur środowiskowych i przyczyn liczny...       7  \n",
       "3131   Oświadczenie operatora systemu przesyłowego o ...       8  \n",
       "3209   Szczegółowe zapisy testów generatorów awaryjny...       8  \n",
       "4955   Wskazanie, które konkretne modele kontraktowan...       9  \n",
       "10072  Scenariusze zapotrzebowania paliwowego konkret...       4  \n",
       "5944   Konkretny schemat dawkowania KI według wieku/m...      10  \n",
       "8918   Opinie i działania organizacji antyatomowych o...       1  \n",
       "2210   Szacunki kosztów magazynowania energii (€/kWh)...       0  \n",
       "5809   Ocena kosztów i czasu typowych dekontaminacji ...      10  \n",
       "3620   Szczegółowe, zweryfikowane dane techniczne dot...       8  \n",
       "9702   Konkretne, udokumentowane szacunki kosztów i h...      11  \n",
       "7822   Rozróżnienie między ryzykami związanymi z bron...      12  \n",
       "6407   Szczegółowa analiza ekonomiczna (LCOE) dla pro...      13  "
      ]
     },
     "execution_count": 11,
     "metadata": {},
     "output_type": "execute_result"
    }
   ],
   "source": [
    "df_org[0:20]"
   ]
  },
  {
   "cell_type": "code",
   "execution_count": null,
   "id": "5170910d",
   "metadata": {},
   "outputs": [],
   "source": []
  },
  {
   "cell_type": "code",
   "execution_count": 12,
   "id": "b47ddb1b",
   "metadata": {},
   "outputs": [
    {
     "data": {
      "text/plain": [
       "<Axes: ylabel='count'>"
      ]
     },
     "execution_count": 12,
     "metadata": {},
     "output_type": "execute_result"
    },
    {
     "data": {
      "image/png": "[encoded data removed]",
      "text/plain": [
       "<Figure size 1000x1000 with 1 Axes>"
      ]
     },
     "metadata": {},
     "output_type": "display_data"
    }
   ],
   "source": [
    "import matplotlib.pyplot as plt\n",
    "\n",
    "df_org.category.value_counts().plot(kind='pie', figsize=(10,10))"
   ]
  },
  {
   "cell_type": "code",
   "execution_count": 13,
   "id": "46a7ebff",
   "metadata": {},
   "outputs": [],
   "source": [
    "from transformers import AutoTokenizer\n",
    "\n",
    "tokenizer = AutoTokenizer.from_pretrained(\n",
    "    \"allegro/herbert-base-cased\",\n",
    "    max_length=512\n",
    ")\n"
   ]
  },
  {
   "cell_type": "code",
   "execution_count": 14,
   "id": "dead2911",
   "metadata": {},
   "outputs": [
    {
     "name": "stderr",
     "output_type": "stream",
     "text": [
      "Some weights of BertForSequenceClassification were not initialized from the model checkpoint at allegro/herbert-base-cased and are newly initialized: ['classifier.bias', 'classifier.weight']\n",
      "You should probably TRAIN this model on a down-stream task to be able to use it for predictions and inference.\n"
     ]
    },
    {
     "data": {
      "text/plain": [
       "BertForSequenceClassification(\n",
       "  (bert): BertModel(\n",
       "    (embeddings): BertEmbeddings(\n",
       "      (word_embeddings): Embedding(50000, 768, padding_idx=1)\n",
       "      (position_embeddings): Embedding(514, 768)\n",
       "      (token_type_embeddings): Embedding(2, 768)\n",
       "      (LayerNorm): LayerNorm((768,), eps=1e-12, elementwise_affine=True)\n",
       "      (dropout): Dropout(p=0.1, inplace=False)\n",
       "    )\n",
       "    (encoder): BertEncoder(\n",
       "      (layer): ModuleList(\n",
       "        (0-11): 12 x BertLayer(\n",
       "          (attention): BertAttention(\n",
       "            (self): BertSdpaSelfAttention(\n",
       "              (query): Linear(in_features=768, out_features=768, bias=True)\n",
       "              (key): Linear(in_features=768, out_features=768, bias=True)\n",
       "              (value): Linear(in_features=768, out_features=768, bias=True)\n",
       "              (dropout): Dropout(p=0.1, inplace=False)\n",
       "            )\n",
       "            (output): BertSelfOutput(\n",
       "              (dense): Linear(in_features=768, out_features=768, bias=True)\n",
       "              (LayerNorm): LayerNorm((768,), eps=1e-12, elementwise_affine=True)\n",
       "              (dropout): Dropout(p=0.1, inplace=False)\n",
       "            )\n",
       "          )\n",
       "          (intermediate): BertIntermediate(\n",
       "            (dense): Linear(in_features=768, out_features=3072, bias=True)\n",
       "            (intermediate_act_fn): GELUActivation()\n",
       "          )\n",
       "          (output): BertOutput(\n",
       "            (dense): Linear(in_features=3072, out_features=768, bias=True)\n",
       "            (LayerNorm): LayerNorm((768,), eps=1e-12, elementwise_affine=True)\n",
       "            (dropout): Dropout(p=0.1, inplace=False)\n",
       "          )\n",
       "        )\n",
       "      )\n",
       "    )\n",
       "    (pooler): BertPooler(\n",
       "      (dense): Linear(in_features=768, out_features=768, bias=True)\n",
       "      (activation): Tanh()\n",
       "    )\n",
       "  )\n",
       "  (dropout): Dropout(p=0.1, inplace=False)\n",
       "  (classifier): Linear(in_features=768, out_features=20, bias=True)\n",
       ")"
      ]
     },
     "execution_count": 14,
     "metadata": {},
     "output_type": "execute_result"
    }
   ],
   "source": [
    "model = BertForSequenceClassification.from_pretrained(\"allegro/herbert-base-cased\", num_labels=NUM_LABELS, id2label=id2label, label2id=label2id)\n",
    "model.to(device)"
   ]
  },
  {
   "cell_type": "code",
   "execution_count": null,
   "id": "7997b35c",
   "metadata": {},
   "outputs": [],
   "source": [
    "#prepare val and test sets\n",
    "\n",
    "test_path = './suggested_test_expert.csv'\n",
    "val_path = './suggested_validation_expert.csv'\n",
    "\n",
    "df_test = pd.read_csv(test_path)\n",
    "df_val = pd.read_csv(val_path)"
   ]
  },
  {
   "cell_type": "code",
   "execution_count": 16,
   "id": "dd811e25",
   "metadata": {},
   "outputs": [
    {
     "data": {
      "text/html": [
       "<div>\n",
       "<style scoped>\n",
       "    .dataframe tbody tr th:only-of-type {\n",
       "        vertical-align: middle;\n",
       "    }\n",
       "\n",
       "    .dataframe tbody tr th {\n",
       "        vertical-align: top;\n",
       "    }\n",
       "\n",
       "    .dataframe thead th {\n",
       "        text-align: right;\n",
       "    }\n",
       "</style>\n",
       "<table border=\"1\" class=\"dataframe\">\n",
       "  <thead>\n",
       "    <tr style=\"text-align: right;\">\n",
       "      <th></th>\n",
       "      <th>category</th>\n",
       "      <th>text</th>\n",
       "      <th>labels</th>\n",
       "    </tr>\n",
       "  </thead>\n",
       "  <tbody>\n",
       "    <tr>\n",
       "      <th>1214</th>\n",
       "      <td>Umowy EPC i transfer technologii - warunki i z...</td>\n",
       "      <td>Stan dostępności i kontraktów kluczowych dosta...</td>\n",
       "      <td>16</td>\n",
       "    </tr>\n",
       "    <tr>\n",
       "      <th>1161</th>\n",
       "      <td>Analiza porównawcza projektów jądrowych - opóź...</td>\n",
       "      <td>Doświadczenia KHNP z projektami zagranicznymi:...</td>\n",
       "      <td>18</td>\n",
       "    </tr>\n",
       "    <tr>\n",
       "      <th>422</th>\n",
       "      <td>Zasilanie awaryjne i systemy chłodzenia - rapo...</td>\n",
       "      <td>Dokładny timeline: czasy utraty i przywrócenia...</td>\n",
       "      <td>8</td>\n",
       "    </tr>\n",
       "    <tr>\n",
       "      <th>976</th>\n",
       "      <td>Analiza prawno-międzynarodowa i strategiczna d...</td>\n",
       "      <td>Perspektywa IAEA i stanowisko międzynarodowe (...</td>\n",
       "      <td>12</td>\n",
       "    </tr>\n",
       "    <tr>\n",
       "      <th>793</th>\n",
       "      <td>Analiza porównawcza kosztów energii jądrowej i...</td>\n",
       "      <td>Szacunki kosztów CAPEX i LCOE dla proponowanyc...</td>\n",
       "      <td>13</td>\n",
       "    </tr>\n",
       "    <tr>\n",
       "      <th>785</th>\n",
       "      <td>Analiza porównawcza kosztów energii jądrowej i...</td>\n",
       "      <td>Szacunkowe, zróżnicowane zakresy kosztów budow...</td>\n",
       "      <td>13</td>\n",
       "    </tr>\n",
       "    <tr>\n",
       "      <th>23</th>\n",
       "      <td>Dokumentacja dotycząca personelu operacyjnego ...</td>\n",
       "      <td>Dokładniejsze omówienie zdolności technicznych...</td>\n",
       "      <td>14</td>\n",
       "    </tr>\n",
       "    <tr>\n",
       "      <th>405</th>\n",
       "      <td>Zasilanie awaryjne i systemy chłodzenia - rapo...</td>\n",
       "      <td>Szczegóły systemów awaryjnych: liczba, moc i s...</td>\n",
       "      <td>8</td>\n",
       "    </tr>\n",
       "    <tr>\n",
       "      <th>43</th>\n",
       "      <td>Dokumentacja dotycząca personelu operacyjnego ...</td>\n",
       "      <td>Informacje o bieżącym stanie dostępu i warunka...</td>\n",
       "      <td>14</td>\n",
       "    </tr>\n",
       "    <tr>\n",
       "      <th>582</th>\n",
       "      <td>Struktura finansowania projektów inwestycyjnych</td>\n",
       "      <td>Proponowany model finansowania (udziały, gwara...</td>\n",
       "      <td>9</td>\n",
       "    </tr>\n",
       "    <tr>\n",
       "      <th>1135</th>\n",
       "      <td>Społeczna akceptacja inwestycji i planowanie k...</td>\n",
       "      <td>Ocena społecznej akceptowalności i plan komuni...</td>\n",
       "      <td>1</td>\n",
       "    </tr>\n",
       "    <tr>\n",
       "      <th>553</th>\n",
       "      <td>Struktura finansowania projektów inwestycyjnych</td>\n",
       "      <td>Szczegóły modelu PPP/EPC (rozwiązania alokacji...</td>\n",
       "      <td>9</td>\n",
       "    </tr>\n",
       "    <tr>\n",
       "      <th>1075</th>\n",
       "      <td>Gospodarka odpadami promieniotwórczymi - zarzą...</td>\n",
       "      <td>Konkretne plany dotyczące zarządzania wypalony...</td>\n",
       "      <td>17</td>\n",
       "    </tr>\n",
       "    <tr>\n",
       "      <th>308</th>\n",
       "      <td>Analiza i rozwój krajowego łańcucha dostaw ene...</td>\n",
       "      <td>Analiza ryzyka zależności od pojedynczego dost...</td>\n",
       "      <td>2</td>\n",
       "    </tr>\n",
       "    <tr>\n",
       "      <th>382</th>\n",
       "      <td>Zasilanie awaryjne i systemy chłodzenia - rapo...</td>\n",
       "      <td>Dokładniejsze informacje o stanie osłon ciśnie...</td>\n",
       "      <td>8</td>\n",
       "    </tr>\n",
       "    <tr>\n",
       "      <th>783</th>\n",
       "      <td>Analiza porównawcza kosztów energii jądrowej i...</td>\n",
       "      <td>Porównawcza analiza kosztów całkowitych (LCOE)...</td>\n",
       "      <td>13</td>\n",
       "    </tr>\n",
       "    <tr>\n",
       "      <th>490</th>\n",
       "      <td>Pomiary radioaktywne i ich analiza</td>\n",
       "      <td>Bezpośrednie pomiary aktywności aerozolowej (B...</td>\n",
       "      <td>15</td>\n",
       "    </tr>\n",
       "    <tr>\n",
       "      <th>78</th>\n",
       "      <td>Dokumentacja dotycząca personelu operacyjnego ...</td>\n",
       "      <td>Dane o wynikach inspekcji regulatorów (ilość p...</td>\n",
       "      <td>14</td>\n",
       "    </tr>\n",
       "    <tr>\n",
       "      <th>1141</th>\n",
       "      <td>Analiza porównawcza projektów jądrowych - opóź...</td>\n",
       "      <td>Porównanie doświadczeń międzynarodowych (proje...</td>\n",
       "      <td>18</td>\n",
       "    </tr>\n",
       "    <tr>\n",
       "      <th>610</th>\n",
       "      <td>Struktura finansowania projektów inwestycyjnych</td>\n",
       "      <td>Dokładne źródła i zakres umów B+R (terminy, be...</td>\n",
       "      <td>9</td>\n",
       "    </tr>\n",
       "  </tbody>\n",
       "</table>\n",
       "</div>"
      ],
      "text/plain": [
       "                                               category  \\\n",
       "1214  Umowy EPC i transfer technologii - warunki i z...   \n",
       "1161  Analiza porównawcza projektów jądrowych - opóź...   \n",
       "422   Zasilanie awaryjne i systemy chłodzenia - rapo...   \n",
       "976   Analiza prawno-międzynarodowa i strategiczna d...   \n",
       "793   Analiza porównawcza kosztów energii jądrowej i...   \n",
       "785   Analiza porównawcza kosztów energii jądrowej i...   \n",
       "23    Dokumentacja dotycząca personelu operacyjnego ...   \n",
       "405   Zasilanie awaryjne i systemy chłodzenia - rapo...   \n",
       "43    Dokumentacja dotycząca personelu operacyjnego ...   \n",
       "582     Struktura finansowania projektów inwestycyjnych   \n",
       "1135  Społeczna akceptacja inwestycji i planowanie k...   \n",
       "553     Struktura finansowania projektów inwestycyjnych   \n",
       "1075  Gospodarka odpadami promieniotwórczymi - zarzą...   \n",
       "308   Analiza i rozwój krajowego łańcucha dostaw ene...   \n",
       "382   Zasilanie awaryjne i systemy chłodzenia - rapo...   \n",
       "783   Analiza porównawcza kosztów energii jądrowej i...   \n",
       "490                  Pomiary radioaktywne i ich analiza   \n",
       "78    Dokumentacja dotycząca personelu operacyjnego ...   \n",
       "1141  Analiza porównawcza projektów jądrowych - opóź...   \n",
       "610     Struktura finansowania projektów inwestycyjnych   \n",
       "\n",
       "                                                   text  labels  \n",
       "1214  Stan dostępności i kontraktów kluczowych dosta...      16  \n",
       "1161  Doświadczenia KHNP z projektami zagranicznymi:...      18  \n",
       "422   Dokładny timeline: czasy utraty i przywrócenia...       8  \n",
       "976   Perspektywa IAEA i stanowisko międzynarodowe (...      12  \n",
       "793   Szacunki kosztów CAPEX i LCOE dla proponowanyc...      13  \n",
       "785   Szacunkowe, zróżnicowane zakresy kosztów budow...      13  \n",
       "23    Dokładniejsze omówienie zdolności technicznych...      14  \n",
       "405   Szczegóły systemów awaryjnych: liczba, moc i s...       8  \n",
       "43    Informacje o bieżącym stanie dostępu i warunka...      14  \n",
       "582   Proponowany model finansowania (udziały, gwara...       9  \n",
       "1135  Ocena społecznej akceptowalności i plan komuni...       1  \n",
       "553   Szczegóły modelu PPP/EPC (rozwiązania alokacji...       9  \n",
       "1075  Konkretne plany dotyczące zarządzania wypalony...      17  \n",
       "308   Analiza ryzyka zależności od pojedynczego dost...       2  \n",
       "382   Dokładniejsze informacje o stanie osłon ciśnie...       8  \n",
       "783   Porównawcza analiza kosztów całkowitych (LCOE)...      13  \n",
       "490   Bezpośrednie pomiary aktywności aerozolowej (B...      15  \n",
       "78    Dane o wynikach inspekcji regulatorów (ilość p...      14  \n",
       "1141  Porównanie doświadczeń międzynarodowych (proje...      18  \n",
       "610   Dokładne źródła i zakres umów B+R (terminy, be...       9  "
      ]
     },
     "execution_count": 16,
     "metadata": {},
     "output_type": "execute_result"
    }
   ],
   "source": [
    "df_test[\"labels\"]=df_test.category.map(lambda x: label2id[x.strip()])\n",
    "df_test = df_test.sample(frac=1.0, random_state=42)\n",
    "df_test[0:20]\n"
   ]
  },
  {
   "cell_type": "code",
   "execution_count": 17,
   "id": "c0944abf",
   "metadata": {},
   "outputs": [
    {
     "data": {
      "text/html": [
       "<div>\n",
       "<style scoped>\n",
       "    .dataframe tbody tr th:only-of-type {\n",
       "        vertical-align: middle;\n",
       "    }\n",
       "\n",
       "    .dataframe tbody tr th {\n",
       "        vertical-align: top;\n",
       "    }\n",
       "\n",
       "    .dataframe thead th {\n",
       "        text-align: right;\n",
       "    }\n",
       "</style>\n",
       "<table border=\"1\" class=\"dataframe\">\n",
       "  <thead>\n",
       "    <tr style=\"text-align: right;\">\n",
       "      <th></th>\n",
       "      <th>category</th>\n",
       "      <th>text</th>\n",
       "      <th>labels</th>\n",
       "    </tr>\n",
       "  </thead>\n",
       "  <tbody>\n",
       "    <tr>\n",
       "      <th>1245</th>\n",
       "      <td>Umowy EPC i transfer technologii - warunki i z...</td>\n",
       "      <td>Konkretne warunki kontraktowe (ryczałt/unit-pr...</td>\n",
       "      <td>16</td>\n",
       "    </tr>\n",
       "    <tr>\n",
       "      <th>727</th>\n",
       "      <td>Planowanie i ćwiczenia transgranicznej ochrony...</td>\n",
       "      <td>Ocena potencjalnego długoterminowego wpływu na...</td>\n",
       "      <td>10</td>\n",
       "    </tr>\n",
       "    <tr>\n",
       "      <th>622</th>\n",
       "      <td>Struktura finansowania projektów inwestycyjnych</td>\n",
       "      <td>Szczegóły dotyczące struktury kapitałowej po p...</td>\n",
       "      <td>9</td>\n",
       "    </tr>\n",
       "    <tr>\n",
       "      <th>898</th>\n",
       "      <td>Bezpieczeństwo elektrowni jądrowej Akkuyu - ra...</td>\n",
       "      <td>Ocena niezależnego, międzynarodowego regulator...</td>\n",
       "      <td>6</td>\n",
       "    </tr>\n",
       "    <tr>\n",
       "      <th>1205</th>\n",
       "      <td>Analiza wrażliwości projektów energetycznych n...</td>\n",
       "      <td>Szacunkowe oszczędności czasu i kosztów wynika...</td>\n",
       "      <td>11</td>\n",
       "    </tr>\n",
       "    <tr>\n",
       "      <th>1197</th>\n",
       "      <td>Analiza wrażliwości projektów energetycznych n...</td>\n",
       "      <td>Szczegółowa analiza głównych źródeł ryzyka dla...</td>\n",
       "      <td>11</td>\n",
       "    </tr>\n",
       "    <tr>\n",
       "      <th>247</th>\n",
       "      <td>Analiza systemów energetycznych: porównanie ró...</td>\n",
       "      <td>Więcej danych dotyczących harmonogramu prac PS...</td>\n",
       "      <td>0</td>\n",
       "    </tr>\n",
       "    <tr>\n",
       "      <th>590</th>\n",
       "      <td>Struktura finansowania projektów inwestycyjnych</td>\n",
       "      <td>Szczegóły dotyczące wpływu na dług publiczny: ...</td>\n",
       "      <td>9</td>\n",
       "    </tr>\n",
       "    <tr>\n",
       "      <th>298</th>\n",
       "      <td>Analiza i rozwój krajowego łańcucha dostaw ene...</td>\n",
       "      <td>Konkretny plan rozwoju kadr (liczby szkolonych...</td>\n",
       "      <td>2</td>\n",
       "    </tr>\n",
       "    <tr>\n",
       "      <th>422</th>\n",
       "      <td>Zasilanie awaryjne i systemy chłodzenia - rapo...</td>\n",
       "      <td>Informacje o statusie awaryjnym reaktora (moc,...</td>\n",
       "      <td>8</td>\n",
       "    </tr>\n",
       "    <tr>\n",
       "      <th>1160</th>\n",
       "      <td>Analiza porównawcza projektów jądrowych - opóź...</td>\n",
       "      <td>Ocena doświadczeń kosztowych i harmonogramowyc...</td>\n",
       "      <td>18</td>\n",
       "    </tr>\n",
       "    <tr>\n",
       "      <th>708</th>\n",
       "      <td>Planowanie i ćwiczenia transgranicznej ochrony...</td>\n",
       "      <td>Oceny długoterminowych skutków zdrowotnych (np...</td>\n",
       "      <td>10</td>\n",
       "    </tr>\n",
       "    <tr>\n",
       "      <th>65</th>\n",
       "      <td>Dokumentacja dotycząca personelu operacyjnego ...</td>\n",
       "      <td>Dokładne mapy trafień i analizy satelitarne po...</td>\n",
       "      <td>14</td>\n",
       "    </tr>\n",
       "    <tr>\n",
       "      <th>44</th>\n",
       "      <td>Dokumentacja dotycząca personelu operacyjnego ...</td>\n",
       "      <td>Wstępna analiza przyczyn (root cause analysis)...</td>\n",
       "      <td>14</td>\n",
       "    </tr>\n",
       "    <tr>\n",
       "      <th>239</th>\n",
       "      <td>Analiza systemów energetycznych: porównanie ró...</td>\n",
       "      <td>Dokładne założenia i kalkulacje dotyczące rynk...</td>\n",
       "      <td>0</td>\n",
       "    </tr>\n",
       "    <tr>\n",
       "      <th>581</th>\n",
       "      <td>Struktura finansowania projektów inwestycyjnych</td>\n",
       "      <td>Mechanizmy finansowania proponowanych inwestyc...</td>\n",
       "      <td>9</td>\n",
       "    </tr>\n",
       "    <tr>\n",
       "      <th>941</th>\n",
       "      <td>Bezpieczeństwo elektrowni jądrowej Akkuyu - ra...</td>\n",
       "      <td>Opinie ekspertów z różnych dziedzin (nadzór ją...</td>\n",
       "      <td>6</td>\n",
       "    </tr>\n",
       "    <tr>\n",
       "      <th>1096</th>\n",
       "      <td>Gospodarka odpadami promieniotwórczymi - zarzą...</td>\n",
       "      <td>Szczegółowe prognozy wielkości i kosztu strumi...</td>\n",
       "      <td>17</td>\n",
       "    </tr>\n",
       "    <tr>\n",
       "      <th>240</th>\n",
       "      <td>Analiza systemów energetycznych: porównanie ró...</td>\n",
       "      <td>Ocena wpływu na energetykę krajową (elastyczno...</td>\n",
       "      <td>0</td>\n",
       "    </tr>\n",
       "    <tr>\n",
       "      <th>614</th>\n",
       "      <td>Struktura finansowania projektów inwestycyjnych</td>\n",
       "      <td>Ilościowe symulacje finansowe: wpływ różnych m...</td>\n",
       "      <td>9</td>\n",
       "    </tr>\n",
       "  </tbody>\n",
       "</table>\n",
       "</div>"
      ],
      "text/plain": [
       "                                               category  \\\n",
       "1245  Umowy EPC i transfer technologii - warunki i z...   \n",
       "727   Planowanie i ćwiczenia transgranicznej ochrony...   \n",
       "622     Struktura finansowania projektów inwestycyjnych   \n",
       "898   Bezpieczeństwo elektrowni jądrowej Akkuyu - ra...   \n",
       "1205  Analiza wrażliwości projektów energetycznych n...   \n",
       "1197  Analiza wrażliwości projektów energetycznych n...   \n",
       "247   Analiza systemów energetycznych: porównanie ró...   \n",
       "590     Struktura finansowania projektów inwestycyjnych   \n",
       "298   Analiza i rozwój krajowego łańcucha dostaw ene...   \n",
       "422   Zasilanie awaryjne i systemy chłodzenia - rapo...   \n",
       "1160  Analiza porównawcza projektów jądrowych - opóź...   \n",
       "708   Planowanie i ćwiczenia transgranicznej ochrony...   \n",
       "65    Dokumentacja dotycząca personelu operacyjnego ...   \n",
       "44    Dokumentacja dotycząca personelu operacyjnego ...   \n",
       "239   Analiza systemów energetycznych: porównanie ró...   \n",
       "581     Struktura finansowania projektów inwestycyjnych   \n",
       "941   Bezpieczeństwo elektrowni jądrowej Akkuyu - ra...   \n",
       "1096  Gospodarka odpadami promieniotwórczymi - zarzą...   \n",
       "240   Analiza systemów energetycznych: porównanie ró...   \n",
       "614     Struktura finansowania projektów inwestycyjnych   \n",
       "\n",
       "                                                   text  labels  \n",
       "1245  Konkretne warunki kontraktowe (ryczałt/unit-pr...      16  \n",
       "727   Ocena potencjalnego długoterminowego wpływu na...      10  \n",
       "622   Szczegóły dotyczące struktury kapitałowej po p...       9  \n",
       "898   Ocena niezależnego, międzynarodowego regulator...       6  \n",
       "1205  Szacunkowe oszczędności czasu i kosztów wynika...      11  \n",
       "1197  Szczegółowa analiza głównych źródeł ryzyka dla...      11  \n",
       "247   Więcej danych dotyczących harmonogramu prac PS...       0  \n",
       "590   Szczegóły dotyczące wpływu na dług publiczny: ...       9  \n",
       "298   Konkretny plan rozwoju kadr (liczby szkolonych...       2  \n",
       "422   Informacje o statusie awaryjnym reaktora (moc,...       8  \n",
       "1160  Ocena doświadczeń kosztowych i harmonogramowyc...      18  \n",
       "708   Oceny długoterminowych skutków zdrowotnych (np...      10  \n",
       "65    Dokładne mapy trafień i analizy satelitarne po...      14  \n",
       "44    Wstępna analiza przyczyn (root cause analysis)...      14  \n",
       "239   Dokładne założenia i kalkulacje dotyczące rynk...       0  \n",
       "581   Mechanizmy finansowania proponowanych inwestyc...       9  \n",
       "941   Opinie ekspertów z różnych dziedzin (nadzór ją...       6  \n",
       "1096  Szczegółowe prognozy wielkości i kosztu strumi...      17  \n",
       "240   Ocena wpływu na energetykę krajową (elastyczno...       0  \n",
       "614   Ilościowe symulacje finansowe: wpływ różnych m...       9  "
      ]
     },
     "execution_count": 17,
     "metadata": {},
     "output_type": "execute_result"
    }
   ],
   "source": [
    "df_val[\"labels\"]=df_val.category.map(lambda x: label2id[x.strip()])\n",
    "df_val = df_val.sample(frac=1.0, random_state=42)\n",
    "df_val[0:20]"
   ]
  },
  {
   "cell_type": "code",
   "execution_count": 18,
   "id": "f47ea405",
   "metadata": {},
   "outputs": [],
   "source": [
    "train_texts= list(df_org.text)\n",
    "val_texts= list(df_val.text)\n",
    "test_texts= list(df_test.text)\n",
    "train_labels= list(df_org.labels)\n",
    "val_labels= list(df_val.labels)\n",
    "test_labels= list(df_test.labels)"
   ]
  },
  {
   "cell_type": "code",
   "execution_count": 19,
   "id": "90c0bb24",
   "metadata": {},
   "outputs": [
    {
     "data": {
      "text/plain": [
       "(10242, 1285, 1270)"
      ]
     },
     "execution_count": 19,
     "metadata": {},
     "output_type": "execute_result"
    }
   ],
   "source": [
    "len(train_texts), len(val_texts), len(test_texts)"
   ]
  },
  {
   "cell_type": "code",
   "execution_count": 20,
   "id": "9111ea2a",
   "metadata": {},
   "outputs": [],
   "source": [
    "train_encodings = tokenizer(train_texts, truncation=True, padding=True)\n",
    "val_encodings  = tokenizer(val_texts, truncation=True, padding=True)\n",
    "test_encodings = tokenizer(test_texts, truncation=True, padding=True)"
   ]
  },
  {
   "cell_type": "code",
   "execution_count": 21,
   "id": "7597b7e9",
   "metadata": {},
   "outputs": [],
   "source": [
    "class DataLoader(Dataset):\n",
    "    \"\"\"\n",
    "    Custom Dataset class for handling tokenized text data and corresponding labels.\n",
    "    Inherits from torch.utils.data.Dataset.\n",
    "    \"\"\"\n",
    "    def __init__(self, encodings, labels):\n",
    "        \"\"\"\n",
    "        Initializes the DataLoader class with encodings and labels.\n",
    "\n",
    "        Args:\n",
    "            encodings (dict): A dictionary containing tokenized input text data\n",
    "                              (e.g., 'input_ids', 'token_type_ids', 'attention_mask').\n",
    "            labels (list): A list of integer labels for the input text data.\n",
    "        \"\"\"\n",
    "        self.encodings = encodings\n",
    "        self.labels = labels\n",
    "\n",
    "    def __getitem__(self, idx):\n",
    "        \"\"\"\n",
    "        Returns a dictionary containing tokenized data and the corresponding label for a given index.\n",
    "\n",
    "        Args:\n",
    "            idx (int): The index of the data item to retrieve.\n",
    "\n",
    "        Returns:\n",
    "            item (dict): A dictionary containing the tokenized data and the corresponding label.\n",
    "        \"\"\"\n",
    "        # Retrieve tokenized data for the given index\n",
    "        item = {key: torch.tensor(val[idx]) for key, val in self.encodings.items()}\n",
    "        # Add the label for the given index to the item dictionary\n",
    "        item['labels'] = torch.tensor(self.labels[idx])\n",
    "        return item\n",
    "\n",
    "    def __len__(self):\n",
    "        \"\"\"\n",
    "        Returns the number of data items in the dataset.\n",
    "\n",
    "        Returns:\n",
    "            (int): The number of data items in the dataset.\n",
    "        \"\"\"\n",
    "        return len(self.labels)\n"
   ]
  },
  {
   "cell_type": "code",
   "execution_count": 22,
   "id": "e8d4a70e",
   "metadata": {},
   "outputs": [],
   "source": [
    "train_dataloader = DataLoader(train_encodings, train_labels)\n",
    "val_dataloader = DataLoader(val_encodings, val_labels)\n",
    "test_dataset = DataLoader(test_encodings, test_labels)"
   ]
  },
  {
   "cell_type": "code",
   "execution_count": 23,
   "id": "1711096d",
   "metadata": {},
   "outputs": [
    {
     "name": "stdout",
     "output_type": "stream",
     "text": [
      "dict_keys(['input_ids', 'token_type_ids', 'attention_mask', 'labels'])\n",
      "tensor([    0, 36600, 14043, 37446,  1335,  4410, 16599,  1888,    49,    59,\n",
      "         3645,  1040,    51, 30248,  3264, 11042,  2545,  9862,  1019,  3023,\n",
      "         1019,  1008,  1750,  1947,  2293,  1750,  1947,  2431,  1750, 10222,\n",
      "        21958,  2602,  2408, 45526, 39799,     2,     1,     1,     1,     1,\n",
      "            1,     1,     1,     1,     1,     1,     1,     1,     1,     1,\n",
      "            1,     1,     1,     1,     1,     1,     1,     1,     1,     1,\n",
      "            1,     1,     1,     1,     1,     1,     1,     1,     1,     1,\n",
      "            1,     1,     1,     1,     1,     1,     1,     1,     1,     1,\n",
      "            1,     1,     1,     1,     1,     1,     1])\n",
      "tensor(0)\n"
     ]
    }
   ],
   "source": [
    "# pobranie jednego przykładu, np. o indeksie 0\n",
    "example = train_dataloader[0]\n",
    "\n",
    "print(example.keys())           # zobaczysz dict: dict_keys(['input_ids', 'token_type_ids', 'attention_mask', 'labels'])\n",
    "print(example['input_ids'])     # tensor z tokenami tekstu\n",
    "print(example['labels'])        # tensor z etykietą"
   ]
  },
  {
   "cell_type": "code",
   "execution_count": 24,
   "id": "5fded51c",
   "metadata": {},
   "outputs": [
    {
     "name": "stdout",
     "output_type": "stream",
     "text": [
      "['<s>', 'Scenari', 'usze</w>', 'czasowe</w>', ':</w>', 'ile</w>', 'MW</w>', '/</w>', 'M', 'W', 'he', 'l</w>', 'O', 'ZE</w>', 'reali', 'stycznie</w>', 'można</w>', 'dodać</w>', 'w</w>', 'Polsce</w>', 'w</w>', '5</w>', '-</w>', ',</w>', '10</w>', '-</w>', ',</w>', '15</w>', '-</w>', 'letnich</w>', 'horyzon', 'tach</w>', 'przy</w>', 'wskazanych</w>', 'inwestycjach</w>', '</s>', '<pad>', '<pad>', '<pad>', '<pad>', '<pad>', '<pad>', '<pad>', '<pad>', '<pad>', '<pad>', '<pad>', '<pad>', '<pad>', '<pad>', '<pad>', '<pad>', '<pad>', '<pad>', '<pad>', '<pad>', '<pad>', '<pad>', '<pad>', '<pad>', '<pad>', '<pad>', '<pad>', '<pad>', '<pad>', '<pad>', '<pad>', '<pad>', '<pad>', '<pad>', '<pad>', '<pad>', '<pad>', '<pad>', '<pad>', '<pad>', '<pad>', '<pad>', '<pad>', '<pad>', '<pad>', '<pad>', '<pad>', '<pad>', '<pad>', '<pad>', '<pad>']\n"
     ]
    }
   ],
   "source": [
    "tokens = tokenizer.convert_ids_to_tokens(example['input_ids'])\n",
    "print(tokens)"
   ]
  },
  {
   "cell_type": "code",
   "execution_count": 25,
   "id": "84b39c2a",
   "metadata": {},
   "outputs": [],
   "source": [
    "from transformers import TrainingArguments, Trainer"
   ]
  },
  {
   "cell_type": "code",
   "execution_count": 26,
   "id": "f8295d11",
   "metadata": {},
   "outputs": [],
   "source": [
    "from sklearn.metrics import accuracy_score, precision_recall_fscore_support\n",
    "\n",
    "def compute_metrics(pred):\n",
    "    \"\"\"\n",
    "    Computes accuracy, F1, precision, and recall for a given set of predictions.\n",
    "    \n",
    "    Args:\n",
    "        pred (obj): An object containing label_ids and predictions attributes.\n",
    "            - label_ids (array-like): A 1D array of true class labels.\n",
    "            - predictions (array-like): A 2D array where each row represents\n",
    "              an observation, and each column represents the probability of \n",
    "              that observation belonging to a certain class.\n",
    "              \n",
    "    Returns:\n",
    "        dict: A dictionary containing the following metrics:\n",
    "            - Accuracy (float): The proportion of correctly classified instances.\n",
    "            - F1 (float): The macro F1 score, which is the harmonic mean of precision\n",
    "              and recall. Macro averaging calculates the metric independently for\n",
    "              each class and then takes the average.\n",
    "            - Precision (float): The macro precision, which is the number of true\n",
    "              positives divided by the sum of true positives and false positives.\n",
    "            - Recall (float): The macro recall, which is the number of true positives\n",
    "              divided by the sum of true positives and false negatives.\n",
    "    \"\"\"\n",
    "    # Extract true labels from the input object\n",
    "    labels = pred.label_ids\n",
    "    \n",
    "    # Obtain predicted class labels by finding the column index with the maximum probability\n",
    "    preds = pred.predictions.argmax(-1)\n",
    "    \n",
    "    # Compute macro precision, recall, and F1 score using sklearn's precision_recall_fscore_support function\n",
    "    precision, recall, f1, _ = precision_recall_fscore_support(labels, preds, average='macro')\n",
    "    \n",
    "    # Calculate the accuracy score using sklearn's accuracy_score function\n",
    "    acc = accuracy_score(labels, preds)\n",
    "    \n",
    "    # Return the computed metrics as a dictionary\n",
    "    return {\n",
    "        'Accuracy': acc,\n",
    "        'F1': f1,\n",
    "        'Precision': precision,\n",
    "        'Recall': recall\n",
    "    }\n"
   ]
  },
  {
   "cell_type": "code",
   "execution_count": 27,
   "id": "44917801",
   "metadata": {},
   "outputs": [],
   "source": [
    "training_args = TrainingArguments(\n",
    "    # The output directory where the model predictions and checkpoints will be written\n",
    "    output_dir=\"./results\", \n",
    "    do_train=True,\n",
    "    do_eval=True,\n",
    "    #  The number of epochs, defaults to 3.0 \n",
    "    num_train_epochs=3,              \n",
    "    per_device_train_batch_size=16,  \n",
    "    per_device_eval_batch_size=32,\n",
    "    # Number of steps used for a linear warmup\n",
    "    warmup_steps=100,                \n",
    "    weight_decay=0.01,\n",
    "    logging_strategy='steps',\n",
    "   # TensorBoard log directory                 \n",
    "    logging_dir='./multi-class-logs',            \n",
    "    logging_steps=50,\n",
    "    report_to=\"wandb\",       \n",
    "    run_name=\"bert_polish_run\",\n",
    "    eval_strategy=\"steps\", #evaluation_strategy=\"steps\" for older versions\n",
    "    eval_steps=50,\n",
    "    save_strategy=\"steps\", \n",
    "    fp16=True,\n",
    "    load_best_model_at_end=True\n",
    ")"
   ]
  },
  {
   "cell_type": "code",
   "execution_count": 28,
   "id": "21e545ea",
   "metadata": {},
   "outputs": [],
   "source": [
    "trainer = Trainer(\n",
    "    # the pre-trained model that will be fine-tuned \n",
    "    model=model,\n",
    "     # training arguments that we defined above                        \n",
    "    args=training_args,                 \n",
    "    train_dataset=train_dataloader,         \n",
    "    eval_dataset=val_dataloader,            \n",
    "    compute_metrics= compute_metrics\n",
    ")"
   ]
  },
  {
   "cell_type": "code",
   "execution_count": 29,
   "id": "ba698d74",
   "metadata": {},
   "outputs": [
    {
     "name": "stderr",
     "output_type": "stream",
     "text": [
      "\u001b[34m\u001b[1mwandb\u001b[0m: Currently logged in as: \u001b[33meoplumbum\u001b[0m (\u001b[33meoplumbum-korea-advanced-institute-of-science-and-technology\u001b[0m) to \u001b[32mhttps://api.wandb.ai\u001b[0m. Use \u001b[1m`wandb login --relogin`\u001b[0m to force relogin\n"
     ]
    },
    {
     "data": {
      "text/html": [],
      "text/plain": [
       "<IPython.core.display.HTML object>"
      ]
     },
     "metadata": {},
     "output_type": "display_data"
    },
    {
     "data": {
      "text/html": [
       "Tracking run with wandb version 0.22.0"
      ],
      "text/plain": [
       "<IPython.core.display.HTML object>"
      ]
     },
     "metadata": {},
     "output_type": "display_data"
    },
    {
     "data": {
      "text/html": [
       "Run data is saved locally in <code>/home/eoplumbum/classfier/wandb/run-20250924_051529-ws0tnyws</code>"
      ],
      "text/plain": [
       "<IPython.core.display.HTML object>"
      ]
     },
     "metadata": {},
     "output_type": "display_data"
    },
    {
     "data": {
      "text/html": [
       "Syncing run <strong><a href='https://wandb.ai/eoplumbum-korea-advanced-institute-of-science-and-technology/huggingface/runs/ws0tnyws' target=\"_blank\">bert_polish_run</a></strong> to <a href='https://wandb.ai/eoplumbum-korea-advanced-institute-of-science-and-technology/huggingface' target=\"_blank\">Weights & Biases</a> (<a href='https://wandb.me/developer-guide' target=\"_blank\">docs</a>)<br>"
      ],
      "text/plain": [
       "<IPython.core.display.HTML object>"
      ]
     },
     "metadata": {},
     "output_type": "display_data"
    },
    {
     "data": {
      "text/html": [
       " View project at <a href='https://wandb.ai/eoplumbum-korea-advanced-institute-of-science-and-technology/huggingface' target=\"_blank\">https://wandb.ai/eoplumbum-korea-advanced-institute-of-science-and-technology/huggingface</a>"
      ],
      "text/plain": [
       "<IPython.core.display.HTML object>"
      ]
     },
     "metadata": {},
     "output_type": "display_data"
    },
    {
     "data": {
      "text/html": [
       " View run at <a href='https://wandb.ai/eoplumbum-korea-advanced-institute-of-science-and-technology/huggingface/runs/ws0tnyws' target=\"_blank\">https://wandb.ai/eoplumbum-korea-advanced-institute-of-science-and-technology/huggingface/runs/ws0tnyws</a>"
      ],
      "text/plain": [
       "<IPython.core.display.HTML object>"
      ]
     },
     "metadata": {},
     "output_type": "display_data"
    },
    {
     "name": "stderr",
     "output_type": "stream",
     "text": [
      "/home/eoplumbum/miniconda3/envs/bert_pl/lib/python3.11/site-packages/torch/nn/parallel/_functions.py:71: UserWarning: Was asked to gather along dimension 0, but all input tensors were scalars; will instead unsqueeze and return a vector.\n",
      "  warnings.warn(\n"
     ]
    },
    {
     "data": {
      "text/html": [
       "\n",
       "    <div>\n",
       "      \n",
       "      <progress value='483' max='483' style='width:300px; height:20px; vertical-align: middle;'></progress>\n",
       "      [483/483 02:43, Epoch 3/3]\n",
       "    </div>\n",
       "    <table border=\"1\" class=\"dataframe\">\n",
       "  <thead>\n",
       " <tr style=\"text-align: left;\">\n",
       "      <th>Step</th>\n",
       "      <th>Training Loss</th>\n",
       "      <th>Validation Loss</th>\n",
       "      <th>Accuracy</th>\n",
       "      <th>F1</th>\n",
       "      <th>Precision</th>\n",
       "      <th>Recall</th>\n",
       "    </tr>\n",
       "  </thead>\n",
       "  <tbody>\n",
       "    <tr>\n",
       "      <td>50</td>\n",
       "      <td>2.953100</td>\n",
       "      <td>2.706565</td>\n",
       "      <td>0.266926</td>\n",
       "      <td>0.150758</td>\n",
       "      <td>0.181250</td>\n",
       "      <td>0.193298</td>\n",
       "    </tr>\n",
       "    <tr>\n",
       "      <td>100</td>\n",
       "      <td>2.008900</td>\n",
       "      <td>1.311209</td>\n",
       "      <td>0.635798</td>\n",
       "      <td>0.544911</td>\n",
       "      <td>0.625866</td>\n",
       "      <td>0.566403</td>\n",
       "    </tr>\n",
       "    <tr>\n",
       "      <td>150</td>\n",
       "      <td>1.100900</td>\n",
       "      <td>0.920241</td>\n",
       "      <td>0.736965</td>\n",
       "      <td>0.691714</td>\n",
       "      <td>0.756250</td>\n",
       "      <td>0.683787</td>\n",
       "    </tr>\n",
       "    <tr>\n",
       "      <td>200</td>\n",
       "      <td>0.779500</td>\n",
       "      <td>0.737578</td>\n",
       "      <td>0.789883</td>\n",
       "      <td>0.768611</td>\n",
       "      <td>0.797351</td>\n",
       "      <td>0.762666</td>\n",
       "    </tr>\n",
       "    <tr>\n",
       "      <td>250</td>\n",
       "      <td>0.616300</td>\n",
       "      <td>0.684343</td>\n",
       "      <td>0.797665</td>\n",
       "      <td>0.784440</td>\n",
       "      <td>0.802628</td>\n",
       "      <td>0.781553</td>\n",
       "    </tr>\n",
       "    <tr>\n",
       "      <td>300</td>\n",
       "      <td>0.602300</td>\n",
       "      <td>0.624408</td>\n",
       "      <td>0.807004</td>\n",
       "      <td>0.788702</td>\n",
       "      <td>0.803119</td>\n",
       "      <td>0.786710</td>\n",
       "    </tr>\n",
       "    <tr>\n",
       "      <td>350</td>\n",
       "      <td>0.437300</td>\n",
       "      <td>0.618426</td>\n",
       "      <td>0.817121</td>\n",
       "      <td>0.806490</td>\n",
       "      <td>0.821147</td>\n",
       "      <td>0.805186</td>\n",
       "    </tr>\n",
       "    <tr>\n",
       "      <td>400</td>\n",
       "      <td>0.373900</td>\n",
       "      <td>0.590791</td>\n",
       "      <td>0.824903</td>\n",
       "      <td>0.817769</td>\n",
       "      <td>0.825371</td>\n",
       "      <td>0.817374</td>\n",
       "    </tr>\n",
       "    <tr>\n",
       "      <td>450</td>\n",
       "      <td>0.318900</td>\n",
       "      <td>0.562624</td>\n",
       "      <td>0.832685</td>\n",
       "      <td>0.821569</td>\n",
       "      <td>0.830201</td>\n",
       "      <td>0.819595</td>\n",
       "    </tr>\n",
       "  </tbody>\n",
       "</table><p>"
      ],
      "text/plain": [
       "<IPython.core.display.HTML object>"
      ]
     },
     "metadata": {},
     "output_type": "display_data"
    },
    {
     "name": "stderr",
     "output_type": "stream",
     "text": [
      "/home/eoplumbum/miniconda3/envs/bert_pl/lib/python3.11/site-packages/sklearn/metrics/_classification.py:1731: UndefinedMetricWarning: Precision is ill-defined and being set to 0.0 in labels with no predicted samples. Use `zero_division` parameter to control this behavior.\n",
      "  _warn_prf(average, modifier, f\"{metric.capitalize()} is\", result.shape[0])\n",
      "/home/eoplumbum/miniconda3/envs/bert_pl/lib/python3.11/site-packages/torch/nn/parallel/_functions.py:71: UserWarning: Was asked to gather along dimension 0, but all input tensors were scalars; will instead unsqueeze and return a vector.\n",
      "  warnings.warn(\n",
      "/home/eoplumbum/miniconda3/envs/bert_pl/lib/python3.11/site-packages/sklearn/metrics/_classification.py:1731: UndefinedMetricWarning: Precision is ill-defined and being set to 0.0 in labels with no predicted samples. Use `zero_division` parameter to control this behavior.\n",
      "  _warn_prf(average, modifier, f\"{metric.capitalize()} is\", result.shape[0])\n",
      "/home/eoplumbum/miniconda3/envs/bert_pl/lib/python3.11/site-packages/torch/nn/parallel/_functions.py:71: UserWarning: Was asked to gather along dimension 0, but all input tensors were scalars; will instead unsqueeze and return a vector.\n",
      "  warnings.warn(\n",
      "/home/eoplumbum/miniconda3/envs/bert_pl/lib/python3.11/site-packages/torch/nn/parallel/_functions.py:71: UserWarning: Was asked to gather along dimension 0, but all input tensors were scalars; will instead unsqueeze and return a vector.\n",
      "  warnings.warn(\n",
      "/home/eoplumbum/miniconda3/envs/bert_pl/lib/python3.11/site-packages/torch/nn/parallel/_functions.py:71: UserWarning: Was asked to gather along dimension 0, but all input tensors were scalars; will instead unsqueeze and return a vector.\n",
      "  warnings.warn(\n",
      "/home/eoplumbum/miniconda3/envs/bert_pl/lib/python3.11/site-packages/torch/nn/parallel/_functions.py:71: UserWarning: Was asked to gather along dimension 0, but all input tensors were scalars; will instead unsqueeze and return a vector.\n",
      "  warnings.warn(\n",
      "/home/eoplumbum/miniconda3/envs/bert_pl/lib/python3.11/site-packages/torch/nn/parallel/_functions.py:71: UserWarning: Was asked to gather along dimension 0, but all input tensors were scalars; will instead unsqueeze and return a vector.\n",
      "  warnings.warn(\n",
      "/home/eoplumbum/miniconda3/envs/bert_pl/lib/python3.11/site-packages/torch/nn/parallel/_functions.py:71: UserWarning: Was asked to gather along dimension 0, but all input tensors were scalars; will instead unsqueeze and return a vector.\n",
      "  warnings.warn(\n",
      "/home/eoplumbum/miniconda3/envs/bert_pl/lib/python3.11/site-packages/torch/nn/parallel/_functions.py:71: UserWarning: Was asked to gather along dimension 0, but all input tensors were scalars; will instead unsqueeze and return a vector.\n",
      "  warnings.warn(\n",
      "/home/eoplumbum/miniconda3/envs/bert_pl/lib/python3.11/site-packages/torch/nn/parallel/_functions.py:71: UserWarning: Was asked to gather along dimension 0, but all input tensors were scalars; will instead unsqueeze and return a vector.\n",
      "  warnings.warn(\n"
     ]
    },
    {
     "data": {
      "text/plain": [
       "TrainOutput(global_step=483, training_loss=0.9730163341229994, metrics={'train_runtime': 168.3669, 'train_samples_per_second': 182.494, 'train_steps_per_second': 2.869, 'total_flos': 1373929970372784.0, 'train_loss': 0.9730163341229994, 'epoch': 3.0})"
      ]
     },
     "execution_count": 29,
     "metadata": {},
     "output_type": "execute_result"
    }
   ],
   "source": [
    "trainer.train()"
   ]
  },
  {
   "cell_type": "code",
   "execution_count": 30,
   "id": "eb99b2fb",
   "metadata": {},
   "outputs": [
    {
     "name": "stderr",
     "output_type": "stream",
     "text": [
      "/home/eoplumbum/miniconda3/envs/bert_pl/lib/python3.11/site-packages/torch/nn/parallel/_functions.py:71: UserWarning: Was asked to gather along dimension 0, but all input tensors were scalars; will instead unsqueeze and return a vector.\n",
      "  warnings.warn(\n"
     ]
    },
    {
     "data": {
      "text/html": [
       "\n",
       "    <div>\n",
       "      \n",
       "      <progress value='102' max='81' style='width:300px; height:20px; vertical-align: middle;'></progress>\n",
       "      [81/81 00:19]\n",
       "    </div>\n",
       "    "
      ],
      "text/plain": [
       "<IPython.core.display.HTML object>"
      ]
     },
     "metadata": {},
     "output_type": "display_data"
    },
    {
     "name": "stderr",
     "output_type": "stream",
     "text": [
      "/home/eoplumbum/miniconda3/envs/bert_pl/lib/python3.11/site-packages/torch/nn/parallel/_functions.py:71: UserWarning: Was asked to gather along dimension 0, but all input tensors were scalars; will instead unsqueeze and return a vector.\n",
      "  warnings.warn(\n",
      "/home/eoplumbum/miniconda3/envs/bert_pl/lib/python3.11/site-packages/torch/nn/parallel/_functions.py:71: UserWarning: Was asked to gather along dimension 0, but all input tensors were scalars; will instead unsqueeze and return a vector.\n",
      "  warnings.warn(\n"
     ]
    },
    {
     "data": {
      "text/html": [
       "<div>\n",
       "<style scoped>\n",
       "    .dataframe tbody tr th:only-of-type {\n",
       "        vertical-align: middle;\n",
       "    }\n",
       "\n",
       "    .dataframe tbody tr th {\n",
       "        vertical-align: top;\n",
       "    }\n",
       "\n",
       "    .dataframe thead th {\n",
       "        text-align: right;\n",
       "    }\n",
       "</style>\n",
       "<table border=\"1\" class=\"dataframe\">\n",
       "  <thead>\n",
       "    <tr style=\"text-align: right;\">\n",
       "      <th></th>\n",
       "      <th>eval_loss</th>\n",
       "      <th>eval_Accuracy</th>\n",
       "      <th>eval_F1</th>\n",
       "      <th>eval_Precision</th>\n",
       "      <th>eval_Recall</th>\n",
       "    </tr>\n",
       "  </thead>\n",
       "  <tbody>\n",
       "    <tr>\n",
       "      <th>train</th>\n",
       "      <td>0.197498</td>\n",
       "      <td>0.953525</td>\n",
       "      <td>0.949222</td>\n",
       "      <td>0.950684</td>\n",
       "      <td>0.947968</td>\n",
       "    </tr>\n",
       "    <tr>\n",
       "      <th>val</th>\n",
       "      <td>0.556470</td>\n",
       "      <td>0.831128</td>\n",
       "      <td>0.820174</td>\n",
       "      <td>0.827004</td>\n",
       "      <td>0.819456</td>\n",
       "    </tr>\n",
       "    <tr>\n",
       "      <th>test</th>\n",
       "      <td>0.508300</td>\n",
       "      <td>0.840945</td>\n",
       "      <td>0.830444</td>\n",
       "      <td>0.834372</td>\n",
       "      <td>0.829806</td>\n",
       "    </tr>\n",
       "  </tbody>\n",
       "</table>\n",
       "</div>"
      ],
      "text/plain": [
       "       eval_loss  eval_Accuracy   eval_F1  eval_Precision  eval_Recall\n",
       "train   0.197498       0.953525  0.949222        0.950684     0.947968\n",
       "val     0.556470       0.831128  0.820174        0.827004     0.819456\n",
       "test    0.508300       0.840945  0.830444        0.834372     0.829806"
      ]
     },
     "execution_count": 30,
     "metadata": {},
     "output_type": "execute_result"
    }
   ],
   "source": [
    "q=[trainer.evaluate(eval_dataset=df_org) for df_org in [train_dataloader, val_dataloader, test_dataset]]\n",
    "\n",
    "pd.DataFrame(q, index=[\"train\",\"val\",\"test\"]).iloc[:,:5]"
   ]
  },
  {
   "cell_type": "code",
   "execution_count": 32,
   "id": "6f5ca6fc",
   "metadata": {},
   "outputs": [],
   "source": [
    "def predict(text):\n",
    "    \"\"\"\n",
    "    Predicts the class label for a given input text\n",
    "\n",
    "    Args:\n",
    "        text (str): The input text for which the class label needs to be predicted.\n",
    "\n",
    "    Returns:\n",
    "        probs (torch.Tensor): Class probabilities for the input text.\n",
    "        pred_label_idx (torch.Tensor): The index of the predicted class label.\n",
    "        pred_label (str): The predicted class label.\n",
    "    \"\"\"\n",
    "    # Tokenize the input text and move tensors to the GPU if available\n",
    "    inputs = tokenizer(text, padding=True, truncation=True, max_length=512, return_tensors=\"pt\").to(\"cuda\")\n",
    "\n",
    "    # Get model output (logits)\n",
    "    outputs = model(**inputs)\n",
    "\n",
    "    probs = outputs[0].softmax(1)\n",
    "    \"\"\" Explanation outputs: The BERT model returns a tuple containing the output logits (and possibly other elements depending on the model configuration). In this case, the output logits are the first element in the tuple, which is why we access it using outputs[0].\n",
    "\n",
    "    outputs[0]: This is a tensor containing the raw output logits for each class. The shape of the tensor is (batch_size, num_classes) where batch_size is the number of input samples (in this case, 1, as we are predicting for a single input text) and num_classes is the number of target classes.\n",
    "\n",
    "    softmax(1): The softmax function is applied along dimension 1 (the class dimension) to convert the raw logits into class probabilities. Softmax normalizes the logits so that they sum to 1, making them interpretable as probabilities. \"\"\"\n",
    "\n",
    "    # Get the index of the class with the highest probability\n",
    "    # argmax() finds the index of the maximum value in the tensor along a specified dimension.\n",
    "    # By default, if no dimension is specified, it returns the index of the maximum value in the flattened tensor.\n",
    "    pred_label_idx = probs.argmax()\n",
    "\n",
    "    # Now map the predicted class index to the actual class label \n",
    "    # Since pred_label_idx is a tensor containing a single value (the predicted class index), \n",
    "    # the .item() method is used to extract the value as a scalar\n",
    "    pred_label = model.config.id2label[pred_label_idx.item()]\n",
    "\n",
    "    return probs, pred_label_idx, pred_label\n"
   ]
  },
  {
   "cell_type": "code",
   "execution_count": null,
   "id": "c8ef5ae8",
   "metadata": {},
   "outputs": [
    {
     "data": {
      "text/plain": [
       "(tensor([[9.1201e-01, 3.5623e-03, 1.6899e-03, 2.8838e-03, 3.2547e-03, 5.3399e-04,\n",
       "          1.4108e-03, 2.9239e-03, 2.3617e-03, 4.8267e-03, 1.5827e-03, 1.5833e-02,\n",
       "          1.5071e-03, 2.7494e-02, 3.7006e-04, 1.4940e-03, 1.7018e-03, 1.0821e-02,\n",
       "          2.4554e-03, 1.2836e-03]], device='cuda:0', grad_fn=<SoftmaxBackward0>),\n",
       " tensor(0, device='cuda:0'),\n",
       " 'Analiza systemów energetycznych: porównanie różnych scenariuszy wykorzystania źródeł energii odnawialnej, magazynów energii i gazu ziemnego')"
      ]
     },
     "execution_count": 33,
     "metadata": {},
     "output_type": "execute_result"
    }
   ],
   "source": [
    "# Test with a an example text \n",
    "text = \"Koszty ekonomiczne: inwestycja, eksploatacja, demontaż i utylizacja paliwa vs alternatywy grzewcze\"\n",
    "# \"Machine Learning itself is moving towards more and more automated\"\n",
    "predict(text)"
   ]
  },
  {
   "cell_type": "code",
   "execution_count": 45,
   "id": "d92b213c",
   "metadata": {},
   "outputs": [
    {
     "name": "stdout",
     "output_type": "stream",
     "text": [
      "Analiza systemów energetycznych: porównanie różnych scenariuszy wykorzystania źródeł energii odnawialnej, magazynów energii i gazu ziemnego\n"
     ]
    }
   ],
   "source": [
    "pred_label = predict(text)[2]\n",
    "print(pred_label)"
   ]
  },
  {
   "cell_type": "code",
   "execution_count": 34,
   "id": "3a085fed",
   "metadata": {},
   "outputs": [
    {
     "data": {
      "text/plain": [
       "('polish-expert-missing-information-classification-model/tokenizer_config.json',\n",
       " 'polish-expert-missing-information-classification-model/special_tokens_map.json',\n",
       " 'polish-expert-missing-information-classification-model/vocab.json',\n",
       " 'polish-expert-missing-information-classification-model/merges.txt',\n",
       " 'polish-expert-missing-information-classification-model/added_tokens.json',\n",
       " 'polish-expert-missing-information-classification-model/tokenizer.json')"
      ]
     },
     "execution_count": 34,
     "metadata": {},
     "output_type": "execute_result"
    }
   ],
   "source": [
    "model_path = \"polish-expert-missing-information-classification-model\"\n",
    "trainer.save_model(model_path)\n",
    "tokenizer.save_pretrained(model_path)"
   ]
  },
  {
   "cell_type": "code",
   "execution_count": null,
   "id": "a6cdef96",
   "metadata": {},
   "outputs": [
    {
     "data": {
      "text/plain": [
       "0    Dokładna informacja o stanie cyfrowych kopii z...\n",
       "1    Dokumentacja ageing management (zarządzanie st...\n",
       "2    Stan i zdolność pomp poboru wody (wydajności, ...\n",
       "3    Wiek, materiał i pełna historia przeglądów, re...\n",
       "4    Kopie lub streszczenia protokołów z „gorących ...\n",
       "Name: text, dtype: object"
      ]
     },
     "execution_count": 38,
     "metadata": {},
     "output_type": "execute_result"
    }
   ],
   "source": [
    "path_amie = '/home/eoplumbum/classfier/addressed_missing_info_expert.csv'\n",
    "df_amie= pd.read_csv(path_amie)\n",
    "\n",
    "df_amie['text'].head()\n",
    "\n",
    "predict(text)"
   ]
  },
  {
   "cell_type": "code",
   "execution_count": null,
   "id": "a135581a",
   "metadata": {},
   "outputs": [
    {
     "name": "stderr",
     "output_type": "stream",
     "text": [
      "socket.send() raised exception.\n",
      "socket.send() raised exception.\n",
      "socket.send() raised exception.\n",
      "socket.send() raised exception.\n"
     ]
    }
   ],
   "source": [
    "# Test on 20 examples\n",
    "df_amie_subset = df_amie.head(20).copy()\n",
    "df_amie_subset['predictions'] = [predict(text)[2] for text in df_amie_subset['text']]\n",
    "\n",
    "df_amie_subset[['text', 'predictions']].to_csv(\"df_amie_predictions_20.csv\", index=False)\n"
   ]
  },
  {
   "cell_type": "code",
   "execution_count": null,
   "id": "fd289f50",
   "metadata": {},
   "outputs": [
    {
     "name": "stderr",
     "output_type": "stream",
     "text": [
      "socket.send() raised exception.\n",
      "socket.send() raised exception.\n",
      "socket.send() raised exception.\n",
      "socket.send() raised exception.\n"
     ]
    }
   ],
   "source": [
    "# For the whole dataset\n",
    "\n",
    "df_amie['predictions'] = [predict(text)[2] for text in df_amie['text']]\n",
    "df_amie[['text', 'predictions']].to_csv(\"df_amie_predictions.csv\", index=False)\n"
   ]
  },
  {
   "cell_type": "code",
   "execution_count": null,
   "id": "790245dc",
   "metadata": {},
   "outputs": [
    {
     "name": "stderr",
     "output_type": "stream",
     "text": [
      "socket.send() raised exception.\n",
      "socket.send() raised exception.\n"
     ]
    },
    {
     "data": {
      "text/plain": [
       "11224"
      ]
     },
     "execution_count": 50,
     "metadata": {},
     "output_type": "execute_result"
    },
    {
     "name": "stderr",
     "output_type": "stream",
     "text": [
      "socket.send() raised exception.\n",
      "socket.send() raised exception.\n"
     ]
    }
   ],
   "source": [
    "path_amie_predictions = './df_amie_predictions.csv'\n",
    "df_amie_predictions = pd.read_csv(path_amie_predictions)\n",
    "len(df_amie_predictions)"
   ]
  },
  {
   "cell_type": "code",
   "execution_count": null,
   "id": "60a66011",
   "metadata": {},
   "outputs": [],
   "source": [
    "from transformers import DistilBertForSequenceClassification, DistilBertTokenizerFast"
   ]
  },
  {
   "cell_type": "code",
   "execution_count": 52,
   "id": "3b023fac",
   "metadata": {},
   "outputs": [
    {
     "name": "stderr",
     "output_type": "stream",
     "text": [
      "socket.send() raised exception.\n",
      "socket.send() raised exception.\n",
      "model.safetensors: 100%|██████████| 498M/498M [00:32<00:00, 15.3MB/s] \n"
     ]
    },
    {
     "data": {
      "text/plain": [
       "CommitInfo(commit_url='https://huggingface.co/eoplumbum/polish-herbert-expert-missing-info/commit/636ea2a53936bb263ca00f057d49cb089fd51c1f', commit_message='Upload tokenizer', commit_description='', oid='636ea2a53936bb263ca00f057d49cb089fd51c1f', pr_url=None, repo_url=RepoUrl('https://huggingface.co/eoplumbum/polish-herbert-expert-missing-info', endpoint='https://huggingface.co', repo_type='model', repo_id='eoplumbum/polish-herbert-expert-missing-info'), pr_revision=None, pr_num=None)"
      ]
     },
     "execution_count": 52,
     "metadata": {},
     "output_type": "execute_result"
    },
    {
     "name": "stderr",
     "output_type": "stream",
     "text": [
      "socket.send() raised exception.\n",
      "socket.send() raised exception.\n"
     ]
    }
   ],
   "source": [
    "# Load local model and tokenizer\n",
    "model = BertForSequenceClassification.from_pretrained(model_path)\n",
    "tokenizer= AutoTokenizer.from_pretrained(model_path)\n",
    "\n",
    "# Push to Hugging Face (if you're logged in)\n",
    "model.push_to_hub(\"eoplumbum/polish-herbert-expert-missing-info\")\n",
    "tokenizer.push_to_hub(\"eoplumbum/polish-herbert-expert-missing-info\")"
   ]
  },
  {
   "cell_type": "code",
   "execution_count": null,
   "id": "4876bcb7",
   "metadata": {},
   "outputs": [
    {
     "name": "stderr",
     "output_type": "stream",
     "text": [
      "socket.send() raised exception.\n",
      "socket.send() raised exception.\n",
      "socket.send() raised exception.\n",
      "socket.send() raised exception.\n"
     ]
    },
    {
     "name": "stdout",
     "output_type": "stream",
     "text": [
      "Predykcja: Analiza systemów energetycznych: porównanie różnych scenariuszy wykorzystania źródeł energii odnawialnej, magazynów energii i gazu ziemnego, Prawdopodobieństwa: tensor([[9.1201e-01, 3.5623e-03, 1.6899e-03, 2.8838e-03, 3.2547e-03, 5.3399e-04,\n",
      "         1.4108e-03, 2.9239e-03, 2.3617e-03, 4.8267e-03, 1.5827e-03, 1.5833e-02,\n",
      "         1.5071e-03, 2.7494e-02, 3.7006e-04, 1.4940e-03, 1.7018e-03, 1.0821e-02,\n",
      "         2.4554e-03, 1.2836e-03]])\n"
     ]
    }
   ],
   "source": [
    "from transformers import AutoTokenizer, AutoModelForSequenceClassification\n",
    "import torch\n",
    "\n",
    "model_name = \"eoplumbum/polish-herbert-expert-missing-info\"\n",
    "tokenizer = AutoTokenizer.from_pretrained(model_name)\n",
    "model = AutoModelForSequenceClassification.from_pretrained(model_name)\n",
    "\n",
    "text = \"Koszty ekonomiczne: inwestycja, eksploatacja, demontaż i utylizacja paliwa vs alternatywy grzewcze\"\n",
    "\n",
    "inputs = tokenizer(text, return_tensors=\"pt\", truncation=True, max_length=512)\n",
    "\n",
    "with torch.no_grad():\n",
    "    outputs = model(**inputs)\n",
    "    probs = outputs.logits.softmax(dim=1)\n",
    "    pred_idx = probs.argmax(dim=1).item()\n",
    "\n",
    "pred_label = model.config.id2label[pred_idx]\n",
    "print(f\"Prediction: {pred_label}, Probabilities: {probs}\")\n"
   ]
  }
 ],
 "metadata": {
  "kernelspec": {
   "display_name": "bert_pl",
   "language": "python",
   "name": "python3"
  },
  "language_info": {
   "codemirror_mode": {
    "name": "ipython",
    "version": 3
   },
   "file_extension": ".py",
   "mimetype": "text/x-python",
   "name": "python",
   "nbconvert_exporter": "python",
   "pygments_lexer": "ipython3",
   "version": "3.11.13"
  }
 },
 "nbformat": 4,
 "nbformat_minor": 5
}
